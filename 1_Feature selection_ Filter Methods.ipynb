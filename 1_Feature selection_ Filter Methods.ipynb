{
 "cells": [
  {
   "cell_type": "code",
   "execution_count": 1,
   "id": "99def32b",
   "metadata": {},
   "outputs": [
    {
     "name": "stdout",
     "output_type": "stream",
     "text": [
      "    edu_goal  hours_study  hours_TV  hours_sleep  height_cm  grade_level  \\\n",
      "0  bachelors            1         4           10        155            8   \n",
      "1  bachelors            2         3           10        151            8   \n",
      "2  bachelors            3         4            8        160            8   \n",
      "3    masters            3         3            8        160            8   \n",
      "4    masters            3         2            6        156            8   \n",
      "5    masters            4         3            6        150            8   \n",
      "6    masters            3         2            8        164            8   \n",
      "7        phd            4         2            8        151            8   \n",
      "8        phd            5         1           10        158            8   \n",
      "9        phd            5         1           10        152            8   \n",
      "\n",
      "   exam_score  \n",
      "0          71  \n",
      "1          72  \n",
      "2          78  \n",
      "3          79  \n",
      "4          85  \n",
      "5          86  \n",
      "6          92  \n",
      "7          93  \n",
      "8          99  \n",
      "9         100  \n"
     ]
    }
   ],
   "source": [
    "import pandas as pd\n",
    " \n",
    "df = pd.DataFrame(data={\n",
    "    'edu_goal': ['bachelors', 'bachelors', 'bachelors', 'masters', 'masters', 'masters', 'masters', 'phd', 'phd', 'phd'],\n",
    "    'hours_study': [1, 2, 3, 3, 3, 4, 3, 4, 5, 5],\n",
    "    'hours_TV': [4, 3, 4, 3, 2, 3, 2, 2, 1, 1],\n",
    "    'hours_sleep': [10, 10, 8, 8, 6, 6, 8, 8, 10, 10],\n",
    "    'height_cm': [155, 151, 160, 160, 156, 150, 164, 151, 158, 152],\n",
    "    'grade_level': [8, 8, 8, 8, 8, 8, 8, 8, 8, 8],\n",
    "    'exam_score': [71, 72, 78, 79, 85, 86, 92, 93, 99, 100]\n",
    "})\n",
    " \n",
    "print(df)"
   ]
  },
  {
   "cell_type": "code",
   "execution_count": 2,
   "id": "e633f7ba",
   "metadata": {},
   "outputs": [],
   "source": [
    "# Our goal is to use the data to predict how well each student will perform on the exam. \n",
    "# Thus, our target variable is exam_score and the remaining 6 variables are our features. \n",
    "# We’ll prepare the data by separating the features matrix (X) and the target vector (y):"
   ]
  },
  {
   "cell_type": "code",
   "execution_count": 4,
   "id": "cd789e69",
   "metadata": {},
   "outputs": [
    {
     "name": "stdout",
     "output_type": "stream",
     "text": [
      "    edu_goal  hours_study  hours_TV  hours_sleep  height_cm  grade_level\n",
      "0  bachelors            1         4           10        155            8\n",
      "1  bachelors            2         3           10        151            8\n",
      "2  bachelors            3         4            8        160            8\n",
      "3    masters            3         3            8        160            8\n",
      "4    masters            3         2            6        156            8\n",
      "5    masters            4         3            6        150            8\n",
      "6    masters            3         2            8        164            8\n",
      "7        phd            4         2            8        151            8\n",
      "8        phd            5         1           10        158            8\n",
      "9        phd            5         1           10        152            8\n"
     ]
    }
   ],
   "source": [
    "X = df.drop(columns=['exam_score'])\n",
    "print(X)"
   ]
  },
  {
   "cell_type": "code",
   "execution_count": 6,
   "id": "dc69f6f4",
   "metadata": {},
   "outputs": [
    {
     "name": "stdout",
     "output_type": "stream",
     "text": [
      "0     71\n",
      "1     72\n",
      "2     78\n",
      "3     79\n",
      "4     85\n",
      "5     86\n",
      "6     92\n",
      "7     93\n",
      "8     99\n",
      "9    100\n",
      "Name: exam_score, dtype: int64\n"
     ]
    }
   ],
   "source": [
    "y = df['exam_score']\n",
    "print(y)"
   ]
  },
  {
   "cell_type": "markdown",
   "id": "e1d404f2",
   "metadata": {},
   "source": [
    "# Variance threshold"
   ]
  },
  {
   "cell_type": "code",
   "execution_count": null,
   "id": "f73e794b",
   "metadata": {},
   "outputs": [],
   "source": [
    "# One of the most basic filter methods is to use a variance threshold to \n",
    "# remove any features that have little to no variation in their values. \n",
    "# This is because features with low variance do not contribute much information to a model. \n",
    "# Since variance can only be calculated on numeric values, this method only works on \n",
    "#quantitative features. That said, we may also want to remove categorical features \n",
    "#for which all or a majority of the values are the same. \n",
    "# To do that, we would need to dummy code the categorical variables first."
   ]
  },
  {
   "cell_type": "code",
   "execution_count": 7,
   "id": "580a78c6",
   "metadata": {},
   "outputs": [],
   "source": [
    "X_num = X.drop(columns=['edu_goal'])"
   ]
  },
  {
   "cell_type": "code",
   "execution_count": null,
   "id": "0875c63f",
   "metadata": {},
   "outputs": [],
   "source": [
    "# We use VarianceThreshold class from scikit-learn to help remove the low-variance features\n",
    "# from X_num. By default, it drops all features with zero variance, but we can adjust the \n",
    "# threshold during class instantiation using the threshold parameter if we want to allow \n",
    "# some variation."
   ]
  },
  {
   "cell_type": "code",
   "execution_count": 8,
   "id": "b4f77928",
   "metadata": {},
   "outputs": [],
   "source": [
    "from sklearn.feature_selection import VarianceThreshold\n",
    "selector = VarianceThreshold(threshold=0) # 0 is default"
   ]
  },
  {
   "cell_type": "code",
   "execution_count": 12,
   "id": "b355cc05",
   "metadata": {},
   "outputs": [
    {
     "name": "stdout",
     "output_type": "stream",
     "text": [
      "[[  1   4  10 155]\n",
      " [  2   3  10 151]\n",
      " [  3   4   8 160]\n",
      " [  3   3   8 160]\n",
      " [  3   2   6 156]\n",
      " [  4   3   6 150]\n",
      " [  3   2   8 164]\n",
      " [  4   2   8 151]\n",
      " [  5   1  10 158]\n",
      " [  5   1  10 152]]\n"
     ]
    }
   ],
   "source": [
    "print(selector.fit_transform(X_num))\n",
    "# The .fit_transform() method returns the filtered features as a numpy array. "
   ]
  },
  {
   "cell_type": "code",
   "execution_count": null,
   "id": "1229248c",
   "metadata": {},
   "outputs": [],
   "source": [
    "# grade_level is removed. "
   ]
  },
  {
   "cell_type": "code",
   "execution_count": null,
   "id": "77168570",
   "metadata": {},
   "outputs": [],
   "source": [
    "# one downside of working with numpy arrays as compared to pandas DataFrame is that \n",
    "# we lose information like column headings, making the data harder to visually inspect. "
   ]
  },
  {
   "cell_type": "code",
   "execution_count": 13,
   "id": "df6b3de3",
   "metadata": {},
   "outputs": [
    {
     "name": "stdout",
     "output_type": "stream",
     "text": [
      "[0 1 2 3]\n"
     ]
    }
   ],
   "source": [
    "# .get_support() can return the indices of the selected features. \n",
    "print(selector.get_support(indices=True))"
   ]
  },
  {
   "cell_type": "code",
   "execution_count": 15,
   "id": "812885ca",
   "metadata": {},
   "outputs": [
    {
     "name": "stdout",
     "output_type": "stream",
     "text": [
      "['hours_study', 'hours_TV', 'hours_sleep', 'height_cm']\n"
     ]
    }
   ],
   "source": [
    "# Use indices to get the corresponding column names of selected features\n",
    "num_cols = list(X_num.columns[selector.get_support(indices=True)])\n",
    "print(num_cols)"
   ]
  },
  {
   "cell_type": "code",
   "execution_count": 17,
   "id": "6e78b354",
   "metadata": {},
   "outputs": [
    {
     "name": "stdout",
     "output_type": "stream",
     "text": [
      "   hours_study  hours_TV  hours_sleep  height_cm\n",
      "0            1         4           10        155\n",
      "1            2         3           10        151\n",
      "2            3         4            8        160\n",
      "3            3         3            8        160\n",
      "4            3         2            6        156\n",
      "5            4         3            6        150\n",
      "6            3         2            8        164\n",
      "7            4         2            8        151\n",
      "8            5         1           10        158\n",
      "9            5         1           10        152\n"
     ]
    }
   ],
   "source": [
    "X_num = X_num[num_cols]\n",
    "print(X_num)"
   ]
  },
  {
   "cell_type": "code",
   "execution_count": 19,
   "id": "3e8b2d78",
   "metadata": {},
   "outputs": [
    {
     "name": "stdout",
     "output_type": "stream",
     "text": [
      "    edu_goal  hours_study  hours_TV  hours_sleep  height_cm\n",
      "0  bachelors            1         4           10        155\n",
      "1  bachelors            2         3           10        151\n",
      "2  bachelors            3         4            8        160\n",
      "3    masters            3         3            8        160\n",
      "4    masters            3         2            6        156\n",
      "5    masters            4         3            6        150\n",
      "6    masters            3         2            8        164\n",
      "7        phd            4         2            8        151\n",
      "8        phd            5         1           10        158\n",
      "9        phd            5         1           10        152\n"
     ]
    }
   ],
   "source": [
    "# Finally, to obtain our entire features DataFrame\n",
    "X=X[['edu_goal']+num_cols]\n",
    "print(X)"
   ]
  },
  {
   "cell_type": "markdown",
   "id": "28ddb207",
   "metadata": {},
   "source": [
    "# Pearson’s correlation (Finding the correlation between variables)"
   ]
  },
  {
   "cell_type": "raw",
   "id": "0a5ad44d",
   "metadata": {},
   "source": [
    "The Pearson's correlation coefficient. It's useful for measuring the linear relationship between two numeric, continuous variables.\n",
    "\n",
    "A coefficient close to 1 represents a positive correlation, -1:negative 0:no Like variance, Pearson's correlation coefficient cannot be calculated for categorical variables.\n",
    "        \n",
    "Although, there is a related point biserial correlation coefficient that can be computed when one variable is dichotomous, but we won’t focus on that here."
   ]
  },
  {
   "cell_type": "raw",
   "id": "99fc3a04",
   "metadata": {},
   "source": [
    "There are 2 main ways of using correlation for feature selection.\n",
    "- To detect correlation between features\n",
    "- To detect correlation between a feature and the target variable."
   ]
  },
  {
   "cell_type": "code",
   "execution_count": null,
   "id": "4f1507a9",
   "metadata": {},
   "outputs": [],
   "source": [
    "# Correlation between features\n",
    "# When two features are highly correlated with each other. Keep one in the model."
   ]
  },
  {
   "cell_type": "code",
   "execution_count": 21,
   "id": "daa73185",
   "metadata": {},
   "outputs": [
    {
     "data": {
      "image/png": "[encoded data removed]",
      "text/plain": [
       "<Figure size 432x288 with 2 Axes>"
      ]
     },
     "metadata": {
      "needs_background": "light"
     },
     "output_type": "display_data"
    }
   ],
   "source": [
    "import matplotlib.pyplot as plt\n",
    "import seaborn as sns\n",
    "\n",
    "corr_matrix = X_num.corr(method = 'pearson') # 'pearson' is default\n",
    "\n",
    "sns.heatmap(corr_matrix,annot=True,cmap='RdBu_r')\n",
    "plt.show()"
   ]
  },
  {
   "cell_type": "code",
   "execution_count": null,
   "id": "ed8c1c9c",
   "metadata": {},
   "outputs": [],
   "source": [
    "# Let’s define high correlation as having a coefficient of greater than 0.7 or less than -0.7.\n",
    "# We can loop through the correlation matrix to identify the highly correlated variables:"
   ]
  },
  {
   "cell_type": "code",
   "execution_count": 25,
   "id": "f9dc428a",
   "metadata": {},
   "outputs": [
    {
     "name": "stdout",
     "output_type": "stream",
     "text": [
      "hours_TV hours_study -0.780763315142435\n"
     ]
    }
   ],
   "source": [
    "for i in range(len(corr_matrix.columns)):\n",
    "    for j in range(i):\n",
    "        if abs(corr_matrix.iloc[i,j])>0.7:\n",
    "            print(corr_matrix.columns[i],corr_matrix.columns[j],corr_matrix.iloc[i,j])"
   ]
  },
  {
   "cell_type": "code",
   "execution_count": null,
   "id": "95ef24a8",
   "metadata": {},
   "outputs": [],
   "source": [
    "# As seen, hours_TV appears to be highly negatively correlated with hours_study — \n",
    "# a student who watches a lot of TV tends to spend fewer hours studying, and vice versa. \n",
    "# Because they provide redundant information, we can choose to remove one of those variables. \n",
    "# To decide which one, we can look at their correlation with the target variable, \n",
    "# then remove the one that is less associated with the target. "
   ]
  },
  {
   "cell_type": "markdown",
   "id": "6ee24629",
   "metadata": {},
   "source": [
    "# Correlation between feature and target"
   ]
  },
  {
   "cell_type": "code",
   "execution_count": 26,
   "id": "de225bdb",
   "metadata": {},
   "outputs": [
    {
     "name": "stdout",
     "output_type": "stream",
     "text": [
      "   hours_study  hours_TV  hours_sleep  height_cm  exam_score\n",
      "0            1         4           10        155          71\n",
      "1            2         3           10        151          72\n",
      "2            3         4            8        160          78\n",
      "3            3         3            8        160          79\n",
      "4            3         2            6        156          85\n",
      "5            4         3            6        150          86\n",
      "6            3         2            8        164          92\n",
      "7            4         2            8        151          93\n",
      "8            5         1           10        158          99\n",
      "9            5         1           10        152         100\n"
     ]
    }
   ],
   "source": [
    "X_y = X_num.copy()\n",
    "X_y['exam_score'] = y\n",
    "\n",
    "print(X_y)"
   ]
  },
  {
   "cell_type": "code",
   "execution_count": 27,
   "id": "caabd176",
   "metadata": {},
   "outputs": [
    {
     "data": {
      "image/png": "[encoded data removed]",
      "text/plain": [
       "<Figure size 432x288 with 2 Axes>"
      ]
     },
     "metadata": {
      "needs_background": "light"
     },
     "output_type": "display_data"
    }
   ],
   "source": [
    "corr_matrix = X_y.corr()\n",
    "\n",
    "# Isolate the column corresponding to `exam_score`\n",
    "corr_target = corr_matrix[['exam_score']].drop(labels=['exam_score'])\n",
    " \n",
    "sns.heatmap(corr_target, annot=True, fmt='.3', cmap='RdBu_r')\n",
    "plt.show()"
   ]
  },
  {
   "cell_type": "code",
   "execution_count": 28,
   "id": "78f6ce66",
   "metadata": {},
   "outputs": [
    {
     "name": "stdout",
     "output_type": "stream",
     "text": [
      "    edu_goal  hours_study  hours_sleep  height_cm\n",
      "0  bachelors            1           10        155\n",
      "1  bachelors            2           10        151\n",
      "2  bachelors            3            8        160\n",
      "3    masters            3            8        160\n",
      "4    masters            3            6        156\n",
      "5    masters            4            6        150\n",
      "6    masters            3            8        164\n",
      "7        phd            4            8        151\n",
      "8        phd            5           10        158\n",
      "9        phd            5           10        152\n"
     ]
    }
   ],
   "source": [
    "X = X.drop(columns=['hours_TV'])\n",
    " \n",
    "print(X)"
   ]
  },
  {
   "cell_type": "markdown",
   "id": "2e69359c",
   "metadata": {},
   "source": [
    "# An alternative approach"
   ]
  },
  {
   "cell_type": "code",
   "execution_count": null,
   "id": "0c58d4ab",
   "metadata": {},
   "outputs": [],
   "source": [
    "# Instead of generating the full correlation matrix, we could use the f_regression()function\n",
    "# from scikit-learn to find the F-statistic for a model with each predictor on its own.\n",
    "# The F-statistic will be larger (and p-value will be smaller) for predictors that are more \n",
    "# highly correlated with the target variable, thus it will perform the same filtering:"
   ]
  },
  {
   "cell_type": "code",
   "execution_count": 29,
   "id": "587f768c",
   "metadata": {},
   "outputs": [
    {
     "name": "stdout",
     "output_type": "stream",
     "text": [
      "(array([3.61362007e+01, 3.44537037e+01, 0.00000000e+00, 1.70259066e-03]), array([3.19334945e-04, 3.74322763e-04, 1.00000000e+00, 9.68097878e-01]))\n"
     ]
    }
   ],
   "source": [
    "from sklearn.feature_selection import f_regression\n",
    " \n",
    "print(f_regression(X_num, y))\n",
    "\n",
    "# The function returns the F-statistic in the first array and the p-value in the second."
   ]
  },
  {
   "cell_type": "markdown",
   "id": "07bef91a",
   "metadata": {},
   "source": [
    "# Mutual information: rank and select the top features."
   ]
  },
  {
   "cell_type": "raw",
   "id": "6eaca248",
   "metadata": {},
   "source": [
    "Mutual information is a measure of dependence between two variables and can be used to gauge how much a feature contributes to the prediction of the target variable. \n",
    "\n",
    "It is similar to Pearson’s correlation, but is not limited to detecting linear associations. This makes mutual information useful for more flexible models where a linear functional form is not assumed. Another advantage of mutual information is that it also works on discrete features or target, unlike correlation. Although, categorical variables need to be numerically encoded first."
   ]
  },
  {
   "cell_type": "code",
   "execution_count": 34,
   "id": "00f4a0b3",
   "metadata": {},
   "outputs": [
    {
     "name": "stdout",
     "output_type": "stream",
     "text": [
      "   edu_goal  hours_study  hours_sleep  height_cm\n",
      "0         0            1           10        155\n",
      "1         0            2           10        151\n",
      "2         0            3            8        160\n",
      "3         1            3            8        160\n",
      "4         1            3            6        156\n",
      "5         1            4            6        150\n",
      "6         1            3            8        164\n",
      "7         2            4            8        151\n",
      "8         2            5           10        158\n",
      "9         2            5           10        152\n"
     ]
    }
   ],
   "source": [
    "from sklearn.preprocessing import LabelEncoder\n",
    " \n",
    "le = LabelEncoder()\n",
    " \n",
    "# Create copy of `X` for encoded version\n",
    "X_enc = X.copy()\n",
    "X_enc['edu_goal'] = le.fit_transform(X['edu_goal'])\n",
    " \n",
    "print(X_enc)"
   ]
  },
  {
   "cell_type": "code",
   "execution_count": 35,
   "id": "7c75d8e1",
   "metadata": {},
   "outputs": [
    {
     "name": "stdout",
     "output_type": "stream",
     "text": [
      "[0.50396825 0.40896825 0.06896825 0.        ]\n"
     ]
    }
   ],
   "source": [
    "from sklearn.feature_selection import mutual_info_regression\n",
    " \n",
    "print(mutual_info_regression(X_enc, y, random_state=68))\n",
    "\n",
    "# This function is used because our target variable is continuous, \n",
    "# but if we had a discrete target variable, we would use mutual_info_classif()"
   ]
  },
  {
   "cell_type": "code",
   "execution_count": null,
   "id": "a73a5b46",
   "metadata": {},
   "outputs": [],
   "source": [
    "# edu_goal is still discrete and not numeric. \n",
    "# we need to tell mutual_info_regression() which features are discrete by providing their \n",
    "# index positions using the discrete_features parameter:"
   ]
  },
  {
   "cell_type": "code",
   "execution_count": 36,
   "id": "0f405f35",
   "metadata": {},
   "outputs": [
    {
     "name": "stdout",
     "output_type": "stream",
     "text": [
      "[0.75563492 0.38896825 0.18563492 0.        ]\n"
     ]
    }
   ],
   "source": [
    "print(mutual_info_regression(X_enc, y, discrete_features=[0], random_state=68))"
   ]
  },
  {
   "cell_type": "code",
   "execution_count": null,
   "id": "d2825dd9",
   "metadata": {},
   "outputs": [],
   "source": [
    "# From the results, we can also see that there is 0 mutual information between height_cm and \n",
    "# exam_score, suggesting that these variables are largely independent. \n",
    "# This is consistent with what we saw earlier with Pearson’s correlation, \n",
    "# where the correlation coefficient between them is very close to 0 as well."
   ]
  },
  {
   "cell_type": "code",
   "execution_count": 39,
   "id": "7bd81702",
   "metadata": {},
   "outputs": [
    {
     "data": {
      "text/plain": [
       "<matplotlib.collections.PathCollection at 0x7fbef813db80>"
      ]
     },
     "execution_count": 39,
     "metadata": {},
     "output_type": "execute_result"
    },
    {
     "data": {
      "image/png": "[encoded data removed]",
      "text/plain": [
       "<Figure size 432x288 with 1 Axes>"
      ]
     },
     "metadata": {
      "needs_background": "light"
     },
     "output_type": "display_data"
    }
   ],
   "source": [
    "# THe mutual information between hours_sleep and exam_score is a positive value, even though\n",
    "# their Pearson's correlation coefficient is 0. The answer becomes more clear when\n",
    "# we plot the relationship between hours_sleep and exam_score.\n",
    "\n",
    "plt.scatter(X_enc['hours_sleep'],y)\n",
    "\n",
    "# As seen, the relationship between hours_sleep and exam_score is not linear. \n",
    "# That is why it is detected using mutual information but not Pearson's correlation coefficient.\n"
   ]
  },
  {
   "cell_type": "code",
   "execution_count": 41,
   "id": "6fb6dcce",
   "metadata": {},
   "outputs": [],
   "source": [
    "# Finally, using the SelectKBest class from scikit-learn to help pick out the top K features\n",
    "# with the highest ranked scores.\n",
    "\n",
    "from sklearn.feature_selection import SelectKBest\n",
    "from functools import partial\n"
   ]
  },
  {
   "cell_type": "code",
   "execution_count": 42,
   "id": "f76b59b1",
   "metadata": {},
   "outputs": [],
   "source": [
    "score_func = partial(mutual_info_regression, discrete_features=[0], random_state=68)"
   ]
  },
  {
   "cell_type": "code",
   "execution_count": 43,
   "id": "9bed4a52",
   "metadata": {},
   "outputs": [
    {
     "name": "stdout",
     "output_type": "stream",
     "text": [
      "[[ 0  1 10]\n",
      " [ 0  2 10]\n",
      " [ 0  3  8]\n",
      " [ 1  3  8]\n",
      " [ 1  3  6]\n",
      " [ 1  4  6]\n",
      " [ 1  3  8]\n",
      " [ 2  4  8]\n",
      " [ 2  5 10]\n",
      " [ 2  5 10]]\n"
     ]
    }
   ],
   "source": [
    "# Select top 3 features with the most mutual information\n",
    "\n",
    "selection = SelectKBest(score_func=score_func, k=3)\n",
    " \n",
    "print(selection.fit_transform(X_enc, y))"
   ]
  },
  {
   "cell_type": "code",
   "execution_count": 44,
   "id": "78948bc2",
   "metadata": {},
   "outputs": [
    {
     "name": "stdout",
     "output_type": "stream",
     "text": [
      "    edu_goal  hours_study  hours_sleep\n",
      "0  bachelors            1           10\n",
      "1  bachelors            2           10\n",
      "2  bachelors            3            8\n",
      "3    masters            3            8\n",
      "4    masters            3            6\n",
      "5    masters            4            6\n",
      "6    masters            3            8\n",
      "7        phd            4            8\n",
      "8        phd            5           10\n",
      "9        phd            5           10\n"
     ]
    }
   ],
   "source": [
    "# As seen above, we selected the top 3 features based on mutual information, \n",
    "# thus dropping height_cm. Like VarianceThreshold, \n",
    "# SelectKBest also offers the .get_support() method that returns the indices of the selected \n",
    "# features, so we could subset our original features DataFrame:\n",
    "\n",
    "X = X[X.columns[selection.get_support(indices=True)]]\n",
    " \n",
    "print(X)"
   ]
  },
  {
   "cell_type": "raw",
   "id": "4a86f426",
   "metadata": {},
   "source": [
    "Conclusion\n",
    "In our example dataset, we started out with 6 features for predicting the exam_score of students. Using various filter methods, we narrowed down that set to just the top most relevant and informative ones. First, we eliminated grade_level because it has zero variance and would contribute nothing to the model. Then, we dropped hours_TV since it is highly correlated with hours_study and is therefore redundant. Lastly, we filtered out height_cm based on mutual information, which suggested that it does not have any meaningful association with the target variable, linear or otherwise, and would not have been very predictive."
   ]
  },
  {
   "cell_type": "code",
   "execution_count": null,
   "id": "514a6ab5",
   "metadata": {},
   "outputs": [],
   "source": []
  },
  {
   "cell_type": "code",
   "execution_count": null,
   "id": "c3faecea",
   "metadata": {},
   "outputs": [],
   "source": []
  },
  {
   "cell_type": "code",
   "execution_count": null,
   "id": "942243a5",
   "metadata": {},
   "outputs": [],
   "source": []
  },
  {
   "cell_type": "code",
   "execution_count": null,
   "id": "535a84fd",
   "metadata": {},
   "outputs": [],
   "source": [
    "# The other two factos 'hours_sleep' and 'height_cm' don't seem to correlate with exam_score.\n",
    "# "
   ]
  },
  {
   "cell_type": "code",
   "execution_count": null,
   "id": "8ef98750",
   "metadata": {},
   "outputs": [],
   "source": []
  }
 ],
 "metadata": {
  "hide_input": false,
  "kernelspec": {
   "display_name": "Python 3 (ipykernel)",
   "language": "python",
   "name": "python3"
  },
  "language_info": {
   "codemirror_mode": {
    "name": "ipython",
    "version": 3
   },
   "file_extension": ".py",
   "mimetype": "text/x-python",
   "name": "python",
   "nbconvert_exporter": "python",
   "pygments_lexer": "ipython3",
   "version": "3.9.7"
  },
  "nbTranslate": {
   "displayLangs": [
    "*"
   ],
   "hotkey": "alt-t",
   "langInMainMenu": true,
   "sourceLang": "en",
   "targetLang": "fr",
   "useGoogleTranslate": true
  },
  "toc": {
   "base_numbering": 1,
   "nav_menu": {},
   "number_sections": true,
   "sideBar": true,
   "skip_h1_title": false,
   "title_cell": "Table of Contents",
   "title_sidebar": "Contents",
   "toc_cell": false,
   "toc_position": {},
   "toc_section_display": true,
   "toc_window_display": false
  },
  "varInspector": {
   "cols": {
    "lenName": 16,
    "lenType": 16,
    "lenVar": 40
   },
   "kernels_config": {
    "python": {
     "delete_cmd_postfix": "",
     "delete_cmd_prefix": "del ",
     "library": "var_list.py",
     "varRefreshCmd": "print(var_dic_list())"
    },
    "r": {
     "delete_cmd_postfix": ") ",
     "delete_cmd_prefix": "rm(",
     "library": "var_list.r",
     "varRefreshCmd": "cat(var_dic_list()) "
    }
   },
   "types_to_exclude": [
    "module",
    "function",
    "builtin_function_or_method",
    "instance",
    "_Feature"
   ],
   "window_display": false
  }
 },
 "nbformat": 4,
 "nbformat_minor": 5
}
